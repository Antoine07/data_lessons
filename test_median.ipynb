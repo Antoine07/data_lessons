{
 "metadata": {
  "language_info": {
   "codemirror_mode": {
    "name": "ipython",
    "version": 3
   },
   "file_extension": ".py",
   "mimetype": "text/x-python",
   "name": "python",
   "nbconvert_exporter": "python",
   "pygments_lexer": "ipython3",
   "version": "3.8.3-final"
  },
  "orig_nbformat": 2,
  "kernelspec": {
   "name": "python3",
   "display_name": "Python 3"
  }
 },
 "nbformat": 4,
 "nbformat_minor": 2,
 "cells": [
  {
   "cell_type": "code",
   "execution_count": 8,
   "metadata": {},
   "outputs": [],
   "source": [
    "import pandas as pd \n",
    "import numpy as np\n",
    "import random as r"
   ]
  },
  {
   "cell_type": "code",
   "execution_count": 15,
   "metadata": {},
   "outputs": [
    {
     "output_type": "stream",
     "name": "stdout",
     "text": [
      "number of nan values 10\nmean with np.nan values : 0.52928 and variance: 0.08773\nnumber of nan values 0\nmean with fillnan median value: 0.52773 and variance: 0.07889\n"
     ]
    }
   ],
   "source": [
    "normalizeData = pd.DataFrame(np.random.rand(100))\n",
    "\n",
    "PRECISION = 5\n",
    "\n",
    "# On crée au max 10 values nan dans le DataFrame\n",
    "count = 0\n",
    "while count < 10:\n",
    "    count += 1\n",
    "    normalizeData.loc[r.randint(1, 100), 0] = np.nan\n",
    "\n",
    "# Vérifions qu'il y a bien 10 valeurs nan\n",
    "print(\"number of nan values\", normalizeData.isnull().sum()[0])\n",
    "\n",
    "# Calculons la moyenne et variance\n",
    "mean = round( normalizeData.mean()[0], PRECISION)\n",
    "variance = round( normalizeData.var()[0], PRECISION)\n",
    "print( f\"mean with np.nan values : {mean} and variance: {variance}\" )\n",
    "\n",
    "# on remplace maintenant les valeurs manquantes par la mediane\n",
    "normalizeData.fillna(normalizeData.median(), inplace=True)\n",
    "\n",
    "# Vérifions qu'il n'y a plus de valeur nan\n",
    "print(\"number of nan values\", normalizeData.isnull().sum()[0])\n",
    "\n",
    "# Calculons maintenant la moyenne et la variance \n",
    "mean = round( normalizeData.mean()[0], PRECISION)\n",
    "variance = round( normalizeData.var()[0], PRECISION)\n",
    "print(f\"mean with fillnan median value: {mean} and variance: {variance}\")"
   ]
  },
  {
   "cell_type": "code",
   "execution_count": 16,
   "metadata": {},
   "outputs": [
    {
     "output_type": "stream",
     "name": "stdout",
     "text": [
      "number of nan values 9\nmean with np.nan values : 10.92308 and variance: 56.96068\nnumber of nan values 0\nmean with fillnan median value: 11.02 and variance: 51.87838\n"
     ]
    }
   ],
   "source": [
    "data = pd.DataFrame([\n",
    "    12, 9, 0, 11,8, 9,20,18,18,18,\n",
    "    16,20,2,2,2,2,4,18,18,18,\n",
    "    16,20,2,2,2,2,4,18,18,18,\n",
    "    16,20,2,2,2,2,4,18,18,18,\n",
    "    11, 9, 0, 12,8, 9,20,18,18,18,\n",
    "    12, 19, 0, 17,18, 2,20,18,18,18,\n",
    "    16,20,2,2,2,2,4,18,18,18,\n",
    "    16,20,2,2,2,2,4,18,18,18,\n",
    "    16,20,2,2,2,2,4,18,18,18,\n",
    "    16,20,2,2,2,2,4,18,18,18\n",
    "])\n",
    "\n",
    "# On crée au max 10 values nan dans le DataFrame\n",
    "count = 0\n",
    "while count < 10:\n",
    "    count += 1\n",
    "    data.loc[r.randint(1, 100), 0] = np.nan\n",
    "\n",
    "# Vérifions qu'il y a bien 10 valeurs nan\n",
    "print(\"number of nan values\", data.isnull().sum()[0])\n",
    "\n",
    "# Calculons la moyenne et variance\n",
    "mean = round( data.mean()[0], PRECISION)\n",
    "variance = round( data.var()[0], PRECISION)\n",
    "print( f\"mean with np.nan values : {mean} and variance: {variance}\" )\n",
    "\n",
    "# on remplace maintenant les valeurs manquantes par la mediane\n",
    "data.fillna(data.median(), inplace=True)\n",
    "\n",
    "# Vérifions qu'il n'y a plus de valeur nan\n",
    "print(\"number of nan values\", data.isnull().sum()[0])\n",
    "\n",
    "# Calculons maintenant la moyenne et la variance \n",
    "mean = round( data.mean()[0], PRECISION)\n",
    "variance = round( data.var()[0], PRECISION)\n",
    "print(f\"mean with fillnan median value: {mean} and variance: {variance}\")"
   ]
  },
  {
   "cell_type": "code",
   "execution_count": null,
   "metadata": {},
   "outputs": [],
   "source": []
  }
 ]
}